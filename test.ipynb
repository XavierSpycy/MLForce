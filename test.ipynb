{
 "cells": [
  {
   "cell_type": "code",
   "execution_count": 1,
   "id": "c17ed35f",
   "metadata": {},
   "outputs": [],
   "source": [
    "from mlsolutions import datasets\n",
    "ds = datasets()"
   ]
  },
  {
   "attachments": {},
   "cell_type": "markdown",
   "id": "b519cdc5",
   "metadata": {},
   "source": [
    "# Supervised Learning"
   ]
  },
  {
   "attachments": {},
   "cell_type": "markdown",
   "id": "4369ede3",
   "metadata": {},
   "source": [
    "## Distance-based Algorithm"
   ]
  },
  {
   "attachments": {},
   "cell_type": "markdown",
   "id": "5e18be83",
   "metadata": {},
   "source": [
    "### K-Nearest Neighbor"
   ]
  },
  {
   "cell_type": "code",
   "execution_count": 2,
   "id": "ee50b0e7",
   "metadata": {},
   "outputs": [],
   "source": [
    "from mlsolutions import KNearestNeighbor"
   ]
  },
  {
   "attachments": {},
   "cell_type": "markdown",
   "id": "f6ce5fd2",
   "metadata": {},
   "source": [
    "#### Numeric features"
   ]
  },
  {
   "cell_type": "code",
   "execution_count": 3,
   "id": "eeffc7ac",
   "metadata": {},
   "outputs": [
    {
     "name": "stdout",
     "output_type": "stream",
     "text": [
      "The training set is:\n",
      "   a1  a2  a3 class\n",
      "0   1   3   1   yes\n",
      "1   3   5   2   yes\n",
      "2   3   2   2    no\n",
      "3   5   2   3    no\n",
      "\n",
      "The new example is:\n",
      "   a1  a2  a3\n",
      "0   2   4   2\n"
     ]
    }
   ],
   "source": [
    "ds.load_knn('numeric')\n",
    "X, y = ds.data, ds.target\n",
    "new_example = ds.new_example\n",
    "ds.overview()"
   ]
  },
  {
   "cell_type": "code",
   "execution_count": 4,
   "id": "6ec78683",
   "metadata": {},
   "outputs": [
    {
     "name": "stdout",
     "output_type": "stream",
     "text": [
      "The closest nearest neighbor is ex.1. Hence, 1-Nearest Neighbor predicts class = yes.\n"
     ]
    }
   ],
   "source": [
    "knn = KNearestNeighbor(k=1)\n",
    "knn.fit(X, y)\n",
    "prediction = knn.predict(new_example)\n",
    "print(knn)"
   ]
  },
  {
   "cell_type": "code",
   "execution_count": 5,
   "id": "5b9857a1",
   "metadata": {},
   "outputs": [
    {
     "name": "stdout",
     "output_type": "stream",
     "text": [
      "The closest nearest neighbors are ex.1, 0, 2. The majority of class is yes; hence, 3-Nearest Neighbor predicts class = yes.\n"
     ]
    }
   ],
   "source": [
    "knn = KNearestNeighbor(k=3)\n",
    "knn.fit(X, y)\n",
    "prediction = knn.predict(new_example)\n",
    "print(knn)"
   ]
  },
  {
   "cell_type": "code",
   "execution_count": 6,
   "id": "d2a5e0a5",
   "metadata": {},
   "outputs": [],
   "source": [
    "import pandas as pd\n",
    "new_examples = pd.DataFrame({'a1': [2, 4], 'a2': [4, 2], 'a3': [2, 1]}, index=[0, 1])"
   ]
  },
  {
   "cell_type": "code",
   "execution_count": 7,
   "id": "52b6d1de",
   "metadata": {},
   "outputs": [
    {
     "name": "stdout",
     "output_type": "stream",
     "text": [
      "The closest nearest neighbors are ex.1, 0, 2. The majority of class is yes; hence, 3-Nearest Neighbor predicts class = yes.\n",
      "The closest nearest neighbors are ex.2, 3, 0. The majority of class is no; hence, 3-Nearest Neighbor predicts class = no.\n"
     ]
    }
   ],
   "source": [
    "prediction = knn.predict(new_examples)\n",
    "print(knn)"
   ]
  },
  {
   "attachments": {},
   "cell_type": "markdown",
   "id": "00cec8b8",
   "metadata": {},
   "source": [
    "#### Nominal features"
   ]
  },
  {
   "cell_type": "code",
   "execution_count": 8,
   "id": "2a297b36",
   "metadata": {},
   "outputs": [
    {
     "name": "stdout",
     "output_type": "stream",
     "text": [
      "The training set is:\n",
      "       age  income student credit rating buy iPhone\n",
      "0     <=30    high      no          fair         no\n",
      "1     <=30    high      no     excellent         no\n",
      "2  [31,40]    high      no          fair        yes\n",
      "3      >40  medium      no          fair        yes\n",
      "4      >40     low     yes     excellent         no\n",
      "5  [31,40]     low     yes     excellent        yes\n",
      "6     <=30  medium      no          fair         no\n",
      "7  [31,40]  medium      no     excellent        yes\n",
      "8      >40  medium      no     excellent         no\n",
      "\n",
      "The new example is:\n",
      "    age  income student credit rating\n",
      "0  <=30  medium     yes          fair\n"
     ]
    }
   ],
   "source": [
    "ds.load_knn('nominal')\n",
    "X, y = ds.data, ds.target\n",
    "new_example = ds.new_example\n",
    "ds.overview()"
   ]
  },
  {
   "cell_type": "code",
   "execution_count": 9,
   "id": "37cd218a",
   "metadata": {},
   "outputs": [
    {
     "name": "stdout",
     "output_type": "stream",
     "text": [
      "The closest nearest neighbor is ex.6. Hence, 1-Nearest Neighbor predicts buy iPhone = no.\n"
     ]
    }
   ],
   "source": [
    "knn = KNearestNeighbor(k=1)\n",
    "knn.fit(X, y)\n",
    "prediction = knn.predict(new_example)\n",
    "print(knn)"
   ]
  },
  {
   "cell_type": "code",
   "execution_count": 10,
   "id": "32422d3f",
   "metadata": {},
   "outputs": [
    {
     "name": "stdout",
     "output_type": "stream",
     "text": [
      "The closest nearest neighbors are ex.6, 0, 3. The majority of buy iPhone is no; hence, 3-Nearest Neighbor predicts buy iPhone = no.\n"
     ]
    }
   ],
   "source": [
    "knn = KNearestNeighbor(k=3)\n",
    "knn.fit(X, y)\n",
    "prediction = knn.predict(new_example)\n",
    "print(knn)"
   ]
  },
  {
   "attachments": {},
   "cell_type": "markdown",
   "id": "0d647f5f",
   "metadata": {},
   "source": [
    "## Rule-based Algorithms"
   ]
  },
  {
   "attachments": {},
   "cell_type": "markdown",
   "id": "164502a1",
   "metadata": {},
   "source": [
    "### 1-Rule"
   ]
  },
  {
   "cell_type": "code",
   "execution_count": 11,
   "id": "7c0c9a8e",
   "metadata": {},
   "outputs": [],
   "source": [
    "from mlsolutions import OneRule"
   ]
  },
  {
   "cell_type": "code",
   "execution_count": 12,
   "id": "fbef5e88",
   "metadata": {},
   "outputs": [
    {
     "name": "stdout",
     "output_type": "stream",
     "text": [
      "The training set is:\n",
      "   credit history  debt   deposit   income      risk\n",
      "0             bad  high      none      low      high\n",
      "1         unknown  high      none  average      high\n",
      "2         unknown   low      none  average  moderate\n",
      "3         unknown   low      none      low      high\n",
      "4         unknown   low      none     high       low\n",
      "5         unknown   low  adequate     high       low\n",
      "6             bad   low      none      low      high\n",
      "7             bad   low  adequate     high  moderate\n",
      "8            good   low      none     high       low\n",
      "9            good  high  adequate     high       low\n",
      "10           good  high      none      low      high\n",
      "11           good  high      none  average  moderate\n",
      "12           good  high      none     high       low\n",
      "13            bad  high      none  average      high\n",
      "\n",
      "The new example is:\n",
      "  credit history debt deposit   income\n",
      "0        unknown  low    none  average\n"
     ]
    }
   ],
   "source": [
    "ds.load_onerule()\n",
    "X, y = ds.data, ds.target\n",
    "new_example = ds.new_example\n",
    "ds.overview()"
   ]
  },
  {
   "cell_type": "code",
   "execution_count": 13,
   "id": "05a4dae0",
   "metadata": {},
   "outputs": [
    {
     "name": "stdout",
     "output_type": "stream",
     "text": [
      "The rule based on income has the minimum number of errors, whose error rate is 0.214. Hence, 1R produces the following rule: \n",
      "if income = low then risk = high; else if income = average then risk = high; else if income = high then risk = low.\n",
      "\n",
      "The new example 0 has income = average and hence will be classified as risk = high.\n"
     ]
    }
   ],
   "source": [
    "oneR = OneRule()\n",
    "oneR.fit(X, y)\n",
    "oneR.generate()\n",
    "prediction = oneR.predict(new_example)\n",
    "print(oneR)"
   ]
  },
  {
   "attachments": {},
   "cell_type": "markdown",
   "id": "14cf8847",
   "metadata": {},
   "source": [
    "### PRISM"
   ]
  },
  {
   "cell_type": "code",
   "execution_count": 14,
   "id": "c7af9a14",
   "metadata": {},
   "outputs": [],
   "source": [
    "from mlsolutions import PRISM"
   ]
  },
  {
   "cell_type": "code",
   "execution_count": 15,
   "id": "b82c612e",
   "metadata": {},
   "outputs": [
    {
     "name": "stdout",
     "output_type": "stream",
     "text": [
      "The training set is:\n",
      "     outlook temperature humidity  windy play\n",
      "0      sunny         hot     high  False   no\n",
      "1      sunny         hot     high   True   no\n",
      "2   overcast         hot     high  False  yes\n",
      "3      rainy        mild     high  False  yes\n",
      "4      rainy        cool   normal  False  yes\n",
      "5      rainy        cool   normal   True   no\n",
      "6   overcast        cool   normal   True  yes\n",
      "7      sunny        cool     high  False   no\n",
      "8      sunny        mild   normal  False  yes\n",
      "9      rainy        cool   normal  False  yes\n",
      "10     sunny        mild   normal   True  yes\n",
      "11  overcast        mild     high   True  yes\n",
      "12  overcast         hot   normal  False  yes\n",
      "13     rainy        mild     high   True   no\n"
     ]
    }
   ],
   "source": [
    "ds.load_prism()\n",
    "X, y = ds.data, ds.target\n",
    "ds.overview()"
   ]
  },
  {
   "cell_type": "code",
   "execution_count": 16,
   "id": "8b7e105c",
   "metadata": {},
   "outputs": [
    {
     "name": "stdout",
     "output_type": "stream",
     "text": [
      "For play = no, PRISM generates the following rule(s):\n",
      "if outlook = sunny & humidity = high then play = no;\n",
      "if outlook = rainy & windy = True then play = no.\n"
     ]
    }
   ],
   "source": [
    "prism = PRISM()\n",
    "prism.fit(X, y)\n",
    "prism.generate('no')\n",
    "print(prism)"
   ]
  },
  {
   "cell_type": "code",
   "execution_count": 17,
   "id": "b4281e80",
   "metadata": {},
   "outputs": [
    {
     "name": "stdout",
     "output_type": "stream",
     "text": [
      "For play = yes, PRISM generates the following rule(s):\n",
      "if outlook = overcast then play = yes;\n",
      "if humidity = normal & windy = False then play = yes;\n",
      "if temperature = mild & outlook = sunny then play = yes;\n",
      "if temperature = mild & windy = False then play = yes.\n"
     ]
    }
   ],
   "source": [
    "prism = PRISM()\n",
    "prism.fit(X, y)\n",
    "prism.generate('yes')\n",
    "print(prism)"
   ]
  },
  {
   "attachments": {},
   "cell_type": "markdown",
   "id": "5e511b04",
   "metadata": {},
   "source": [
    "## Probabilistic method"
   ]
  },
  {
   "attachments": {},
   "cell_type": "markdown",
   "id": "882b5caa",
   "metadata": {},
   "source": [
    "### Naive Bayes"
   ]
  },
  {
   "attachments": {},
   "cell_type": "markdown",
   "id": "f8d7c6d4",
   "metadata": {},
   "source": [
    "$P(H|E) = \\frac{P(E|H)P(H)}{P(E)}$"
   ]
  },
  {
   "cell_type": "code",
   "execution_count": 18,
   "id": "1c382236",
   "metadata": {},
   "outputs": [],
   "source": [
    "from mlsolutions import NaiveBayes"
   ]
  },
  {
   "attachments": {},
   "cell_type": "markdown",
   "id": "5294d449",
   "metadata": {},
   "source": [
    "#### Nominal features"
   ]
  },
  {
   "cell_type": "code",
   "execution_count": 19,
   "id": "8522ee76",
   "metadata": {},
   "outputs": [
    {
     "name": "stdout",
     "output_type": "stream",
     "text": [
      "The training set is:\n",
      "  home owner marital status     income loan default\n",
      "0        yes         single  very high          yes\n",
      "1         no        married       high          yes\n",
      "2         no         single     medium           no\n",
      "3        yes        married  very high           no\n",
      "4        yes       divorced       high          yes\n",
      "5         no        married        low           no\n",
      "6        yes       divorced  very high           no\n",
      "7         no         single       high          yes\n",
      "8         no        married     medium           no\n",
      "9         no         single        low          yes\n",
      "\n",
      "The new example is:\n",
      "  home owner marital status     income\n",
      "0         no        married  very high\n"
     ]
    }
   ],
   "source": [
    "ds.load_naivebayes('No.1')\n",
    "X, y = ds.data, ds.target\n",
    "new_example = ds.new_example\n",
    "ds.overview()"
   ]
  },
  {
   "cell_type": "code",
   "execution_count": 20,
   "id": "2e807a85",
   "metadata": {},
   "outputs": [
    {
     "name": "stdout",
     "output_type": "stream",
     "text": [
      "Naive Bayes predicts loan default = no.\n"
     ]
    }
   ],
   "source": [
    "nb = NaiveBayes()\n",
    "nb.fit(X, y)\n",
    "prediction = nb.predict(new_example)\n",
    "print(nb)"
   ]
  },
  {
   "cell_type": "code",
   "execution_count": 21,
   "id": "b38ce6b1",
   "metadata": {},
   "outputs": [
    {
     "name": "stdout",
     "output_type": "stream",
     "text": [
      "The training set is:\n",
      "  location weather companion expensive holiday\n",
      "0     nice   sunny  annoying         Y    good\n",
      "1     nice   sunny  annoying         N     bad\n",
      "2   boring   rainy     great         Y    good\n",
      "3   boring   sunny     great         Y     bad\n",
      "4     nice   rainy     great         Y    good\n",
      "5   boring   rainy  annoying         N    good\n",
      "6   boring   rainy     great         N    good\n",
      "\n",
      "The new example is:\n",
      "  location weather companion expensive\n",
      "0   boring   sunny  annoying         Y\n"
     ]
    }
   ],
   "source": [
    "ds.load_naivebayes('No.3')\n",
    "X, y = ds.data, ds.target\n",
    "new_example = ds.new_example\n",
    "ds.overview()"
   ]
  },
  {
   "cell_type": "code",
   "execution_count": 22,
   "id": "09350be3",
   "metadata": {},
   "outputs": [
    {
     "name": "stdout",
     "output_type": "stream",
     "text": [
      "Naive Bayes predicts holiday = bad.\n"
     ]
    }
   ],
   "source": [
    "nb = NaiveBayes()\n",
    "nb.fit(X, y)\n",
    "prediction = nb.predict(new_example)\n",
    "print(nb)"
   ]
  },
  {
   "attachments": {},
   "cell_type": "markdown",
   "id": "55f81bce",
   "metadata": {},
   "source": [
    "#### Numeric features"
   ]
  },
  {
   "cell_type": "code",
   "execution_count": 23,
   "id": "5b02262f",
   "metadata": {},
   "outputs": [
    {
     "name": "stdout",
     "output_type": "stream",
     "text": [
      "The training set is:\n",
      "  home owner marital status  income loan default\n",
      "0        yes         single     125          yes\n",
      "1         no        married     100          yes\n",
      "2         no         single      70           no\n",
      "3        yes        married     120           no\n",
      "4        yes       divorced      95          yes\n",
      "5         no        married      60           no\n",
      "6        yes       divorced     220           no\n",
      "7         no         single      85          yes\n",
      "8         no        married      75           no\n",
      "9         no         single      90          yes\n",
      "\n",
      "The new example is:\n",
      "  home owner marital status income\n",
      "0         no        married    120\n"
     ]
    }
   ],
   "source": [
    "ds.load_naivebayes('No.2')\n",
    "X, y = ds.data, ds.target\n",
    "new_example = ds.new_example\n",
    "ds.overview()"
   ]
  },
  {
   "cell_type": "code",
   "execution_count": 24,
   "id": "1425cf7e",
   "metadata": {},
   "outputs": [
    {
     "name": "stdout",
     "output_type": "stream",
     "text": [
      "Naive Bayes predicts loan default = no.\n"
     ]
    }
   ],
   "source": [
    "nb = NaiveBayes()\n",
    "nb.fit(X, y)\n",
    "prediction = nb.predict(new_example)\n",
    "print(nb)"
   ]
  },
  {
   "attachments": {},
   "cell_type": "markdown",
   "id": "170660e0",
   "metadata": {},
   "source": [
    "## Trees"
   ]
  },
  {
   "attachments": {},
   "cell_type": "markdown",
   "id": "832fff55",
   "metadata": {},
   "source": [
    "### Decision Tree - Root selection"
   ]
  },
  {
   "cell_type": "code",
   "execution_count": 25,
   "id": "44754b59",
   "metadata": {},
   "outputs": [],
   "source": [
    "from mlsolutions import DecisionTreeRootSelection"
   ]
  },
  {
   "cell_type": "code",
   "execution_count": 26,
   "id": "16df53d7",
   "metadata": {},
   "outputs": [
    {
     "name": "stdout",
     "output_type": "stream",
     "text": [
      "The training set is:\n",
      "      shape color class\n",
      "0    circle  blue     +\n",
      "1    circle  blue     +\n",
      "2    square  blue     -\n",
      "3  triangle  blue     -\n",
      "4    square   red     +\n",
      "5    square  blue     -\n",
      "6    square   red     +\n",
      "7    circle   red     +\n"
     ]
    }
   ],
   "source": [
    "ds.load_decisiontree('No.1')\n",
    "X, y = ds.data, ds.target\n",
    "ds.overview()"
   ]
  },
  {
   "cell_type": "code",
   "execution_count": 27,
   "id": "2d17fadc",
   "metadata": {},
   "outputs": [
    {
     "name": "stdout",
     "output_type": "stream",
     "text": [
      "As shape has the highest information gain, it will be selected as the root of the tree.\n"
     ]
    }
   ],
   "source": [
    "root = DecisionTreeRootSelection()\n",
    "root.fit(X, y)\n",
    "print(root)"
   ]
  },
  {
   "cell_type": "code",
   "execution_count": 28,
   "id": "abfc7a6b",
   "metadata": {},
   "outputs": [
    {
     "name": "stdout",
     "output_type": "stream",
     "text": [
      "The training set is:\n",
      "  location weather expensive holiday\n",
      "0     nice   sunny         Y    good\n",
      "1     nice   sunny         N     bad\n",
      "2   boring   rainy         Y    good\n",
      "3   boring   sunny         N     bad\n",
      "4     nice   rainy         Y    good\n",
      "5   boring   rainy         N    good\n",
      "6   boring   rainy         N    good\n"
     ]
    }
   ],
   "source": [
    "ds.load_decisiontree('No.2')\n",
    "X, y = ds.data, ds.target\n",
    "ds.overview()"
   ]
  },
  {
   "cell_type": "code",
   "execution_count": 29,
   "id": "005516b1",
   "metadata": {},
   "outputs": [
    {
     "name": "stdout",
     "output_type": "stream",
     "text": [
      "As weather has the highest information gain, it will be selected as the root of the tree.\n"
     ]
    }
   ],
   "source": [
    "root = DecisionTreeRootSelection()\n",
    "root.fit(X, y)\n",
    "print(root)"
   ]
  },
  {
   "attachments": {},
   "cell_type": "markdown",
   "id": "7fb4b7cc",
   "metadata": {},
   "source": [
    "## Neural network"
   ]
  },
  {
   "attachments": {},
   "cell_type": "markdown",
   "id": "47c82599",
   "metadata": {},
   "source": [
    "### Perceptron"
   ]
  },
  {
   "cell_type": "code",
   "execution_count": 30,
   "id": "15cd3e32",
   "metadata": {},
   "outputs": [],
   "source": [
    "from mlsolutions import Perceptron"
   ]
  },
  {
   "cell_type": "code",
   "execution_count": 31,
   "id": "df962ec8",
   "metadata": {},
   "outputs": [
    {
     "name": "stdout",
     "output_type": "stream",
     "text": [
      "The training set is:\n",
      "   a1  a2  a3  class\n",
      "0   1   0   0      1\n",
      "1   0   1   1      0\n",
      "2   1   1   0      1\n",
      "3   1   1   1      0\n",
      "4   0   0   1      0\n"
     ]
    }
   ],
   "source": [
    "ds.load_perceptron()\n",
    "X, y = ds.data, ds.target\n",
    "ds.overview()"
   ]
  },
  {
   "cell_type": "code",
   "execution_count": 32,
   "id": "47d55699",
   "metadata": {},
   "outputs": [
    {
     "name": "stdout",
     "output_type": "stream",
     "text": [
      "After 1 epoch(s), weight vector and bias: w = [0.0, -1.0, -2.0], b = -1.\n"
     ]
    }
   ],
   "source": [
    "n_in = len(X.columns)\n",
    "perceptron = Perceptron(n_in)\n",
    "perceptron.fit(X, y)\n",
    "print(perceptron)"
   ]
  },
  {
   "attachments": {},
   "cell_type": "markdown",
   "id": "7d588dc0",
   "metadata": {},
   "source": [
    "# Unsupervised Learning"
   ]
  },
  {
   "attachments": {},
   "cell_type": "markdown",
   "id": "6f0d969f",
   "metadata": {},
   "source": [
    "## Clustering"
   ]
  },
  {
   "attachments": {},
   "cell_type": "markdown",
   "id": "05b3dba6",
   "metadata": {},
   "source": [
    "### K-means clustering"
   ]
  },
  {
   "cell_type": "code",
   "execution_count": 33,
   "id": "699adcee",
   "metadata": {},
   "outputs": [],
   "source": [
    "from mlsolutions import Kmeans"
   ]
  },
  {
   "cell_type": "code",
   "execution_count": 34,
   "id": "90e58d04",
   "metadata": {},
   "outputs": [
    {
     "name": "stdout",
     "output_type": "stream",
     "text": [
      "The distance matrix is:\n",
      "    A  B  C   D  E\n",
      "A   0  2  7  10  1\n",
      "B   2  0  3   4  6\n",
      "C   7  3  0   5  9\n",
      "D  10  4  5   0  8\n",
      "E   1  6  9   8  0\n"
     ]
    }
   ],
   "source": [
    "ds.load_kmeans('No.1')\n",
    "matrix = ds.dataset\n",
    "ds.overview()"
   ]
  },
  {
   "cell_type": "code",
   "execution_count": 35,
   "id": "38e2e677",
   "metadata": {},
   "outputs": [
    {
     "name": "stdout",
     "output_type": "stream",
     "text": [
      "After the first epoch, the clusters are: {'E', 'A'}, {'C', 'D', 'B'}.\n"
     ]
    }
   ],
   "source": [
    "centroids = ['A', 'B']\n",
    "kmeans = Kmeans(centroids)\n",
    "kmeans.fit(matrix)\n",
    "print(kmeans)"
   ]
  },
  {
   "cell_type": "code",
   "execution_count": 36,
   "id": "4de242fc",
   "metadata": {},
   "outputs": [
    {
     "name": "stdout",
     "output_type": "stream",
     "text": [
      "The distance matrix is:\n",
      "    A   B   C  D   E   F   G\n",
      "A   0  10   2  1  12   5   4\n",
      "B  10   0   4  3   6  23   7\n",
      "C   2   4   0  5   9  14  19\n",
      "D   1   3   5  0   1   7   4\n",
      "E  12   6   9  1   0   2  18\n",
      "F   5  23  14  7   2   0   6\n",
      "G   4   7  19  4  18   6   0\n"
     ]
    }
   ],
   "source": [
    "ds.load_kmeans('No.2')\n",
    "matrix = ds.dataset\n",
    "ds.overview()"
   ]
  },
  {
   "cell_type": "code",
   "execution_count": 37,
   "id": "b98acb3f",
   "metadata": {},
   "outputs": [
    {
     "name": "stdout",
     "output_type": "stream",
     "text": [
      "After the first epoch, the clusters are: {'C', 'F', 'A', 'D', 'G'}, {'E', 'B'}.\n"
     ]
    }
   ],
   "source": [
    "centroids = ['A', 'B']\n",
    "kmeans = Kmeans(centroids)\n",
    "kmeans.fit(matrix)\n",
    "print(kmeans)"
   ]
  },
  {
   "attachments": {},
   "cell_type": "markdown",
   "id": "bbf952cd",
   "metadata": {},
   "source": [
    "### Hierarchical clustering"
   ]
  },
  {
   "cell_type": "code",
   "execution_count": 38,
   "id": "ac5791ce",
   "metadata": {},
   "outputs": [],
   "source": [
    "from mlsolutions import HierarchicalClustering"
   ]
  },
  {
   "cell_type": "code",
   "execution_count": 39,
   "id": "2a84ef3c",
   "metadata": {},
   "outputs": [
    {
     "name": "stdout",
     "output_type": "stream",
     "text": [
      "The distance matrix is:\n",
      "    A  B  C   D  E\n",
      "A   0  2  7  10  1\n",
      "B   2  0  3   4  6\n",
      "C   7  3  0   5  9\n",
      "D  10  4  5   0  8\n",
      "E   1  6  9   8  0\n"
     ]
    }
   ],
   "source": [
    "ds.load_hierarchical()\n",
    "matrix = ds.dataset\n",
    "ds.overview()"
   ]
  },
  {
   "cell_type": "code",
   "execution_count": 40,
   "id": "5429d052",
   "metadata": {},
   "outputs": [
    {
     "name": "stdout",
     "output_type": "stream",
     "text": [
      "After step 1, the latest merged cluster is: {'E', 'A'};\n",
      "After step 2, the latest merged cluster is: {'E', 'B', 'A'};\n",
      "After step 3, the latest merged cluster is: {'C', 'E', 'B', 'A'};\n",
      "After step 4, the latest merged cluster is: {'C', 'B', 'A', 'D', 'E'}.\n"
     ]
    }
   ],
   "source": [
    "hc = HierarchicalClustering()\n",
    "hc.fit(matrix)\n",
    "print(hc)"
   ]
  },
  {
   "attachments": {},
   "cell_type": "markdown",
   "id": "63df9b74",
   "metadata": {},
   "source": [
    "### Density-Based Spatial Clustering of Applications with Noise(DBSCAN)"
   ]
  },
  {
   "cell_type": "code",
   "execution_count": 41,
   "id": "d6a44387",
   "metadata": {},
   "outputs": [],
   "source": [
    "from mlsolutions import DBSCAN"
   ]
  },
  {
   "cell_type": "code",
   "execution_count": 42,
   "id": "0b4d7169",
   "metadata": {},
   "outputs": [
    {
     "name": "stdout",
     "output_type": "stream",
     "text": [
      "The distance matrix is:\n",
      "   A  B  C  D  E\n",
      "A  0  1  4  5  6\n",
      "B  1  0  2  6  7\n",
      "C  4  2  0  3  4\n",
      "D  5  6  3  0  1\n",
      "E  6  7  4  1  0\n"
     ]
    }
   ],
   "source": [
    "ds.load_dbscan('No.1')\n",
    "matrix = ds.dataset\n",
    "ds.overview()"
   ]
  },
  {
   "cell_type": "code",
   "execution_count": 43,
   "id": "dcb857ce",
   "metadata": {},
   "outputs": [
    {
     "name": "stdout",
     "output_type": "stream",
     "text": [
      "Final clustering: K1 = {'C', 'B', 'A'}.\n"
     ]
    }
   ],
   "source": [
    "dbscan = DBSCAN(2, 3)\n",
    "dbscan.fit(matrix)\n",
    "print(dbscan)"
   ]
  },
  {
   "cell_type": "code",
   "execution_count": 44,
   "id": "71f7cb40",
   "metadata": {},
   "outputs": [
    {
     "name": "stdout",
     "output_type": "stream",
     "text": [
      "Final clustering: K1 = {'B', 'A'}, K2 = {'D', 'E'}.\n"
     ]
    }
   ],
   "source": [
    "dbscan = DBSCAN(1, 2)\n",
    "dbscan.fit(matrix)\n",
    "print(dbscan)"
   ]
  },
  {
   "cell_type": "code",
   "execution_count": 45,
   "id": "e1f84f90",
   "metadata": {},
   "outputs": [
    {
     "name": "stdout",
     "output_type": "stream",
     "text": [
      "The distance matrix is:\n",
      "     A1   A2   A3   A4   A5   A6   A7   A8\n",
      "A1  0.0  5.0  6.0  3.6  7.0  7.2  8.0  2.2\n",
      "A2  5.0  0.0  6.1  4.2  5.0  4.1  3.2  4.5\n",
      "A3  6.0  6.1  0.0  5.0  1.5  1.5  7.5  6.5\n",
      "A4  3.6  4.2  5.0  0.0  3.6  4.1  7.2  1.5\n",
      "A5  7.0  5.0  1.5  3.6  0.0  1.4  6.7  5.0\n",
      "A6  7.2  4.1  1.5  4.1  1.4  0.0  5.4  5.5\n",
      "A7  8.0  3.2  7.5  7.2  6.7  5.4  0.0  7.5\n",
      "A8  2.2  4.5  6.5  1.5  5.0  5.5  7.5  0.0\n"
     ]
    }
   ],
   "source": [
    "ds.load_dbscan('No.2')\n",
    "matrix = ds.dataset\n",
    "ds.overview()"
   ]
  },
  {
   "cell_type": "code",
   "execution_count": 46,
   "id": "6a3b69fc",
   "metadata": {},
   "outputs": [
    {
     "name": "stdout",
     "output_type": "stream",
     "text": [
      "Final clustering: K1 = {'A3', 'A5', 'A6'}, K2 = {'A4', 'A8'}.\n"
     ]
    }
   ],
   "source": [
    "dbscan = DBSCAN(2, 2)\n",
    "dbscan.fit(matrix)\n",
    "print(dbscan)"
   ]
  },
  {
   "attachments": {},
   "cell_type": "markdown",
   "id": "9235d46d",
   "metadata": {},
   "source": [
    "## Evaluating clustering quality"
   ]
  },
  {
   "cell_type": "code",
   "execution_count": 47,
   "id": "75f9a0ed",
   "metadata": {},
   "outputs": [],
   "source": [
    "from mlsolutions import ClusteringEvaluator"
   ]
  },
  {
   "attachments": {},
   "cell_type": "markdown",
   "id": "4b2a3ab1",
   "metadata": {},
   "source": [
    "### Using the silhouette coefficent"
   ]
  },
  {
   "cell_type": "code",
   "execution_count": 48,
   "id": "78b2cd22",
   "metadata": {},
   "outputs": [
    {
     "name": "stdout",
     "output_type": "stream",
     "text": [
      "The distance matrix is:\n",
      "      P1   P2    P3    P4\n",
      "P1  0.00  0.1  0.65  0.55\n",
      "P2  0.10  0.0  0.70  0.60\n",
      "P3  0.65  0.7  0.00  0.30\n",
      "P4  0.55  0.6  0.30  0.00\n",
      "\n",
      "The cluster labels are:\n",
      "points\n",
      "P1    1\n",
      "P2    1\n",
      "P3    2\n",
      "P4    2\n",
      "Name: cluster label, dtype: int64\n"
     ]
    }
   ],
   "source": [
    "ds.load_cluster_evaluate(method='sihouette_coefficient')\n",
    "distance_matrix = ds.dataset\n",
    "cluster_labels = ds.cluster_labels\n",
    "ds.overview()"
   ]
  },
  {
   "cell_type": "code",
   "execution_count": 49,
   "id": "2a818414",
   "metadata": {},
   "outputs": [
    {
     "name": "stdout",
     "output_type": "stream",
     "text": [
      "The evaluation results of the clustering quality using sihouette coefficient is 0.678.\n"
     ]
    }
   ],
   "source": [
    "ce = ClusteringEvaluator(method='sihouette_coefficient')\n",
    "ce.fit(cluster_labels, distance_matrix)\n",
    "print(ce)"
   ]
  },
  {
   "attachments": {},
   "cell_type": "markdown",
   "id": "ff697bb0",
   "metadata": {},
   "source": [
    "### Using correlation"
   ]
  },
  {
   "cell_type": "code",
   "execution_count": 50,
   "id": "45aff5ab",
   "metadata": {},
   "outputs": [
    {
     "name": "stdout",
     "output_type": "stream",
     "text": [
      "The evaluation results of the clustering quality using correlation is 0.947.\n"
     ]
    }
   ],
   "source": [
    "# Re-evaluate the previous clustering results using correlation\n",
    "# In this case, \n",
    "# the similarity matrix will be directly computed from the distance matrix.\n",
    "ce = ClusteringEvaluator(method='correlation')\n",
    "ce.fit(cluster_labels, distance_matrix=distance_matrix)\n",
    "print(ce)"
   ]
  },
  {
   "cell_type": "code",
   "execution_count": 51,
   "id": "6d7b8319",
   "metadata": {},
   "outputs": [
    {
     "name": "stdout",
     "output_type": "stream",
     "text": [
      "The similarity matrix is:\n",
      "      P1    P2    P3    P4\n",
      "P1  1.00  1.00  0.08  0.25\n",
      "P2  1.00  1.00  0.00  0.17\n",
      "P3  0.08  0.00  1.00  0.67\n",
      "P4  0.25  0.17  0.67  1.00\n"
     ]
    }
   ],
   "source": [
    "# \n",
    "ds.load_cluster_evaluate(method='correlation')\n",
    "similarity_matrix_distance = ds.dataset\n",
    "ds.overview()"
   ]
  },
  {
   "cell_type": "code",
   "execution_count": 52,
   "id": "6517bd28",
   "metadata": {},
   "outputs": [
    {
     "name": "stdout",
     "output_type": "stream",
     "text": [
      "The evaluation results of the clustering quality using correlation is 0.963.\n"
     ]
    }
   ],
   "source": [
    "ce = ClusteringEvaluator(method='correlation')\n",
    "ce.fit(cluster_labels, similarity_matrix_distance=similarity_matrix_distance)\n",
    "print(ce)"
   ]
  },
  {
   "attachments": {},
   "cell_type": "markdown",
   "id": "8c422ad7",
   "metadata": {},
   "source": [
    "## Markov models"
   ]
  },
  {
   "attachments": {},
   "cell_type": "markdown",
   "id": "0fbb4aa2",
   "metadata": {},
   "source": [
    "### Markov chain"
   ]
  },
  {
   "cell_type": "code",
   "execution_count": 53,
   "id": "f081cc47",
   "metadata": {},
   "outputs": [],
   "source": [
    "from mlsolutions import MarkovChain"
   ]
  },
  {
   "cell_type": "code",
   "execution_count": 54,
   "id": "2445190c",
   "metadata": {},
   "outputs": [
    {
     "name": "stdout",
     "output_type": "stream",
     "text": [
      "The transition matrix is:\n",
      "       sunny  rainy  foggy\n",
      "sunny    0.8   0.05   0.15\n",
      "rainy    0.2   0.60   0.20\n",
      "foggy    0.2   0.30   0.50\n"
     ]
    }
   ],
   "source": [
    "ds.load_markov()\n",
    "matrix = ds.dataset\n",
    "ds.overview()"
   ]
  },
  {
   "cell_type": "code",
   "execution_count": 55,
   "id": "5712f9dc",
   "metadata": {},
   "outputs": [
    {
     "name": "stdout",
     "output_type": "stream",
     "text": [
      "Given that today is foggy, the probability that it will be sunny tomorrow is 0.20.\n"
     ]
    }
   ],
   "source": [
    "# The state sequence must have a length of four in our implementation.\n",
    "state_sequence = ['rainy', 'foggy', 'sunny', None]\n",
    "mc = MarkovChain(matrix)\n",
    "mc.fit(state_sequence)\n",
    "mc.next_state()\n",
    "print(mc)"
   ]
  },
  {
   "cell_type": "code",
   "execution_count": 56,
   "id": "79b0f986",
   "metadata": {},
   "outputs": [
    {
     "name": "stdout",
     "output_type": "stream",
     "text": [
      "Given that today is sunny, the probability that it will be sunny tomorrow and rainy the day after tomorrow is 0.04.\n"
     ]
    }
   ],
   "source": [
    "state_sequence = [None, 'sunny', 'sunny', 'rainy']\n",
    "mc = MarkovChain(matrix)\n",
    "mc.fit(state_sequence)\n",
    "mc.state_after_next_state()\n",
    "print(mc)"
   ]
  },
  {
   "attachments": {},
   "cell_type": "markdown",
   "id": "c3abe169",
   "metadata": {},
   "source": [
    "### Hidden Markov models"
   ]
  },
  {
   "cell_type": "code",
   "execution_count": 57,
   "id": "a367913b",
   "metadata": {},
   "outputs": [],
   "source": [
    "from mlsolutions import HiddenMarkovModel"
   ]
  },
  {
   "cell_type": "code",
   "execution_count": 58,
   "id": "f8f77266",
   "metadata": {},
   "outputs": [
    {
     "name": "stdout",
     "output_type": "stream",
     "text": [
      "The initial probabilities are:\n",
      "Sunny    0.4\n",
      "Rainy    0.3\n",
      "Foggy    0.3\n",
      "\n",
      "The transition matrix is:\n",
      "       Sunny  Rainy  Foggy\n",
      "Sunny    0.8   0.05   0.15\n",
      "Rainy    0.2   0.60   0.20\n",
      "Foggy    0.2   0.30   0.50\n",
      "\n",
      "The emission matrix is:\n",
      "       Umbrella  No Umbrella\n",
      "Sunny       0.1          0.9\n",
      "Rainy       0.8          0.2\n",
      "Foggy       0.3          0.7\n"
     ]
    }
   ],
   "source": [
    "ds.load_hidden_markov('No.1')\n",
    "# Initial probabilities of state A_0\n",
    "initial_probability = ds.initial_probability\n",
    "# Transition probability matrix A\n",
    "transition = ds.transition\n",
    "# Emission probability matrix E\n",
    "emission = ds.emission\n",
    "ds.overview()"
   ]
  },
  {
   "cell_type": "code",
   "execution_count": 59,
   "id": "8cdcf33b",
   "metadata": {},
   "outputs": [
    {
     "name": "stdout",
     "output_type": "stream",
     "text": [
      "Conclusion: a) The probability of the observation sequence No Umbrella, Umbrella is 0.179, b) The most likely sequence of hidden states is Foggy, Rainy.\n"
     ]
    }
   ],
   "source": [
    "observations = ['No Umbrella', 'Umbrella']\n",
    "hmm = HiddenMarkovModel(initial_probability, transition, emission)\n",
    "hmm.fit(observations)\n",
    "print(hmm)"
   ]
  },
  {
   "cell_type": "code",
   "execution_count": 60,
   "id": "28aef91d",
   "metadata": {},
   "outputs": [
    {
     "name": "stdout",
     "output_type": "stream",
     "text": [
      "The initial probabilities are:\n",
      "Sunny     0.5\n",
      "Cloudy    0.5\n",
      "\n",
      "The transition matrix is:\n",
      "        Sunny  Cloudy\n",
      "Sunny     0.6     0.4\n",
      "Cloudy    0.5     0.5\n",
      "\n",
      "The emission matrix is:\n",
      "        Dress  Scarf  Blazer\n",
      "Sunny     0.6    0.3     0.1\n",
      "Cloudy    0.2    0.3     0.5\n"
     ]
    }
   ],
   "source": [
    "ds.load_hidden_markov('No.2')\n",
    "# Initial probabilities of state A_0\n",
    "initial_probability = ds.initial_probability\n",
    "# Transition probability matrix A\n",
    "transition = ds.transition\n",
    "# Emission probability matrix E\n",
    "emission = ds.emission\n",
    "ds.overview()"
   ]
  },
  {
   "cell_type": "code",
   "execution_count": 61,
   "id": "19ad5cf4",
   "metadata": {},
   "outputs": [
    {
     "name": "stdout",
     "output_type": "stream",
     "text": [
      "Conclusion: a) The probability of the observation sequence Dress, Blazer is 0.108, b) The most likely sequence of hidden states is Sunny, Cloudy.\n"
     ]
    }
   ],
   "source": [
    "observations = ['Dress', 'Blazer']\n",
    "hmm = HiddenMarkovModel(initial_probability, transition, emission)\n",
    "hmm.fit(observations)\n",
    "print(hmm)"
   ]
  },
  {
   "cell_type": "code",
   "execution_count": 62,
   "id": "0f571305",
   "metadata": {},
   "outputs": [
    {
     "name": "stdout",
     "output_type": "stream",
     "text": [
      "Conclusion: a) The probability of the observation sequence Dress, Blazer, Scarf is 0.032, b) The most likely sequence of hidden states is Sunny, Cloudy, Sunny.\n"
     ]
    }
   ],
   "source": [
    "observations = ['Dress', 'Blazer', 'Scarf']\n",
    "hmm = HiddenMarkovModel(initial_probability, transition, emission)\n",
    "hmm.fit(observations)\n",
    "print(hmm)"
   ]
  },
  {
   "cell_type": "code",
   "execution_count": null,
   "id": "e8d6494e",
   "metadata": {},
   "outputs": [],
   "source": []
  }
 ],
 "metadata": {
  "kernelspec": {
   "display_name": "Python 3 (ipykernel)",
   "language": "python",
   "name": "python3"
  },
  "language_info": {
   "codemirror_mode": {
    "name": "ipython",
    "version": 3
   },
   "file_extension": ".py",
   "mimetype": "text/x-python",
   "name": "python",
   "nbconvert_exporter": "python",
   "pygments_lexer": "ipython3",
   "version": "3.9.16"
  }
 },
 "nbformat": 4,
 "nbformat_minor": 5
}
