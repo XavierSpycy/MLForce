{
 "cells": [
  {
   "cell_type": "code",
   "execution_count": null,
   "id": "3d5665fa",
   "metadata": {},
   "outputs": [],
   "source": [
    "#!pip install mlforce"
   ]
  },
  {
   "cell_type": "code",
   "execution_count": null,
   "id": "95aabc75",
   "metadata": {},
   "outputs": [],
   "source": [
    "import mlforce as mlf\n",
    "mlf.__version__"
   ]
  },
  {
   "cell_type": "code",
   "execution_count": null,
   "id": "c17ed35f",
   "metadata": {},
   "outputs": [],
   "source": [
    "from mlforce.basics.datasets import StandardDataset\n",
    "ds = StandardDataset()"
   ]
  },
  {
   "cell_type": "markdown",
   "id": "b519cdc5",
   "metadata": {},
   "source": [
    "# Supervised Learning"
   ]
  },
  {
   "cell_type": "markdown",
   "id": "4369ede3",
   "metadata": {},
   "source": [
    "## Distance-based Algorithm"
   ]
  },
  {
   "cell_type": "markdown",
   "id": "5e18be83",
   "metadata": {},
   "source": [
    "### K-Nearest Neighbor"
   ]
  },
  {
   "cell_type": "code",
   "execution_count": null,
   "id": "ee50b0e7",
   "metadata": {},
   "outputs": [],
   "source": [
    "from mlforce.basics import KNearestNeighbor"
   ]
  },
  {
   "cell_type": "markdown",
   "id": "f6ce5fd2",
   "metadata": {},
   "source": [
    "#### Numeric features"
   ]
  },
  {
   "cell_type": "code",
   "execution_count": null,
   "id": "eeffc7ac",
   "metadata": {},
   "outputs": [],
   "source": [
    "ds.load_knn('numeric')\n",
    "X, y = ds.data, ds.target\n",
    "new_example = ds.new_example\n",
    "ds.overview()"
   ]
  },
  {
   "cell_type": "code",
   "execution_count": null,
   "id": "6ec78683",
   "metadata": {},
   "outputs": [],
   "source": [
    "knn = KNearestNeighbor(k=1)\n",
    "knn.fit(X, y)\n",
    "prediction = knn.predict(new_example)\n",
    "print(knn)"
   ]
  },
  {
   "cell_type": "code",
   "execution_count": null,
   "id": "5b9857a1",
   "metadata": {},
   "outputs": [],
   "source": [
    "knn = KNearestNeighbor(k=3)\n",
    "knn.fit(X, y)\n",
    "prediction = knn.predict(new_example)\n",
    "print(knn)"
   ]
  },
  {
   "cell_type": "code",
   "execution_count": null,
   "id": "d2a5e0a5",
   "metadata": {},
   "outputs": [],
   "source": [
    "import pandas as pd\n",
    "new_examples = pd.DataFrame({'Feature 1': [2, 4], 'Feature 2': [4, 2], 'Feature 3': [2, 1]}, index=[0, 1])"
   ]
  },
  {
   "cell_type": "code",
   "execution_count": null,
   "id": "52b6d1de",
   "metadata": {},
   "outputs": [],
   "source": [
    "prediction = knn.predict(new_examples)\n",
    "print(knn)"
   ]
  },
  {
   "cell_type": "markdown",
   "id": "00cec8b8",
   "metadata": {},
   "source": [
    "#### Nominal features"
   ]
  },
  {
   "cell_type": "code",
   "execution_count": null,
   "id": "2a297b36",
   "metadata": {},
   "outputs": [],
   "source": [
    "ds.load_knn('nominal')\n",
    "X, y = ds.data, ds.target\n",
    "new_example = ds.new_example\n",
    "ds.overview()"
   ]
  },
  {
   "cell_type": "code",
   "execution_count": null,
   "id": "37cd218a",
   "metadata": {},
   "outputs": [],
   "source": [
    "knn = KNearestNeighbor(k=1)\n",
    "knn.fit(X, y)\n",
    "prediction = knn.predict(new_example)\n",
    "print(knn)"
   ]
  },
  {
   "cell_type": "code",
   "execution_count": null,
   "id": "32422d3f",
   "metadata": {},
   "outputs": [],
   "source": [
    "knn = KNearestNeighbor(k=3)\n",
    "knn.fit(X, y)\n",
    "prediction = knn.predict(new_example)\n",
    "print(knn)"
   ]
  },
  {
   "cell_type": "markdown",
   "id": "0d647f5f",
   "metadata": {},
   "source": [
    "## Rule-based Algorithms"
   ]
  },
  {
   "cell_type": "markdown",
   "id": "164502a1",
   "metadata": {},
   "source": [
    "### 1-Rule"
   ]
  },
  {
   "cell_type": "code",
   "execution_count": null,
   "id": "7c0c9a8e",
   "metadata": {},
   "outputs": [],
   "source": [
    "from mlforce.basics import OneRule"
   ]
  },
  {
   "cell_type": "code",
   "execution_count": null,
   "id": "fbef5e88",
   "metadata": {},
   "outputs": [],
   "source": [
    "ds.load_onerule()\n",
    "X, y = ds.data, ds.target\n",
    "new_example = ds.new_example\n",
    "ds.overview()"
   ]
  },
  {
   "cell_type": "code",
   "execution_count": null,
   "id": "05a4dae0",
   "metadata": {},
   "outputs": [],
   "source": [
    "oneR = OneRule()\n",
    "oneR.fit(X, y)\n",
    "oneR.generate()\n",
    "prediction = oneR.predict(new_example)\n",
    "print(oneR)"
   ]
  },
  {
   "cell_type": "markdown",
   "id": "14cf8847",
   "metadata": {},
   "source": [
    "### PRISM"
   ]
  },
  {
   "cell_type": "code",
   "execution_count": null,
   "id": "c7af9a14",
   "metadata": {},
   "outputs": [],
   "source": [
    "from mlforce.basics import PRISM"
   ]
  },
  {
   "cell_type": "code",
   "execution_count": null,
   "id": "b82c612e",
   "metadata": {},
   "outputs": [],
   "source": [
    "ds.load_prism()\n",
    "X, y = ds.data, ds.target\n",
    "ds.overview()"
   ]
  },
  {
   "cell_type": "code",
   "execution_count": null,
   "id": "8b7e105c",
   "metadata": {},
   "outputs": [],
   "source": [
    "prism = PRISM()\n",
    "prism.fit(X, y)\n",
    "prism.generate('no')\n",
    "print(prism)"
   ]
  },
  {
   "cell_type": "code",
   "execution_count": null,
   "id": "b4281e80",
   "metadata": {},
   "outputs": [],
   "source": [
    "prism = PRISM()\n",
    "prism.fit(X, y)\n",
    "prism.generate('yes')\n",
    "print(prism)"
   ]
  },
  {
   "cell_type": "markdown",
   "id": "5e511b04",
   "metadata": {},
   "source": [
    "## Probabilistic method"
   ]
  },
  {
   "cell_type": "markdown",
   "id": "882b5caa",
   "metadata": {},
   "source": [
    "### Naive Bayes"
   ]
  },
  {
   "cell_type": "markdown",
   "id": "f8d7c6d4",
   "metadata": {},
   "source": [
    "$P(H|E) = \\frac{P(E|H)P(H)}{P(E)}$"
   ]
  },
  {
   "cell_type": "code",
   "execution_count": null,
   "id": "1c382236",
   "metadata": {},
   "outputs": [],
   "source": [
    "from mlforce.basics import NaiveBayes"
   ]
  },
  {
   "cell_type": "markdown",
   "id": "5294d449",
   "metadata": {},
   "source": [
    "#### Nominal features"
   ]
  },
  {
   "cell_type": "code",
   "execution_count": null,
   "id": "8522ee76",
   "metadata": {},
   "outputs": [],
   "source": [
    "ds.load_naivebayes('nb1')\n",
    "X, y = ds.data, ds.target\n",
    "new_example = ds.new_example\n",
    "ds.overview()"
   ]
  },
  {
   "cell_type": "code",
   "execution_count": null,
   "id": "2e807a85",
   "metadata": {},
   "outputs": [],
   "source": [
    "nb = NaiveBayes()\n",
    "nb.fit(X, y)\n",
    "prediction = nb.predict(new_example)\n",
    "print(nb)"
   ]
  },
  {
   "cell_type": "code",
   "execution_count": null,
   "id": "b38ce6b1",
   "metadata": {},
   "outputs": [],
   "source": [
    "ds.load_naivebayes('nb3')\n",
    "X, y = ds.data, ds.target\n",
    "new_example = ds.new_example\n",
    "ds.overview()"
   ]
  },
  {
   "cell_type": "code",
   "execution_count": null,
   "id": "09350be3",
   "metadata": {},
   "outputs": [],
   "source": [
    "nb = NaiveBayes()\n",
    "nb.fit(X, y)\n",
    "prediction = nb.predict(new_example)\n",
    "print(nb)"
   ]
  },
  {
   "cell_type": "markdown",
   "id": "55f81bce",
   "metadata": {},
   "source": [
    "#### Numeric features"
   ]
  },
  {
   "cell_type": "code",
   "execution_count": null,
   "id": "5b02262f",
   "metadata": {},
   "outputs": [],
   "source": [
    "ds.load_naivebayes('nb2')\n",
    "X, y = ds.data, ds.target\n",
    "new_example = ds.new_example\n",
    "ds.overview()"
   ]
  },
  {
   "cell_type": "code",
   "execution_count": null,
   "id": "1425cf7e",
   "metadata": {},
   "outputs": [],
   "source": [
    "nb = NaiveBayes()\n",
    "nb.fit(X, y)\n",
    "prediction = nb.predict(new_example)\n",
    "print(nb)"
   ]
  },
  {
   "cell_type": "markdown",
   "id": "170660e0",
   "metadata": {},
   "source": [
    "## Trees"
   ]
  },
  {
   "cell_type": "markdown",
   "id": "832fff55",
   "metadata": {},
   "source": [
    "### Decision Tree - Root selection"
   ]
  },
  {
   "cell_type": "code",
   "execution_count": null,
   "id": "44754b59",
   "metadata": {},
   "outputs": [],
   "source": [
    "from mlforce.basics import DecisionTreeRootSelection"
   ]
  },
  {
   "cell_type": "code",
   "execution_count": null,
   "id": "16df53d7",
   "metadata": {},
   "outputs": [],
   "source": [
    "ds.load_decisiontree('dt1')\n",
    "X, y = ds.data, ds.target\n",
    "ds.overview()"
   ]
  },
  {
   "cell_type": "code",
   "execution_count": null,
   "id": "2d17fadc",
   "metadata": {},
   "outputs": [],
   "source": [
    "root = DecisionTreeRootSelection()\n",
    "root.fit(X, y)\n",
    "print(root)"
   ]
  },
  {
   "cell_type": "code",
   "execution_count": null,
   "id": "abfc7a6b",
   "metadata": {},
   "outputs": [],
   "source": [
    "ds.load_decisiontree('dt2')\n",
    "X, y = ds.data, ds.target\n",
    "ds.overview()"
   ]
  },
  {
   "cell_type": "code",
   "execution_count": null,
   "id": "005516b1",
   "metadata": {},
   "outputs": [],
   "source": [
    "root = DecisionTreeRootSelection()\n",
    "root.fit(X, y)\n",
    "print(root)"
   ]
  },
  {
   "cell_type": "markdown",
   "id": "7fb4b7cc",
   "metadata": {},
   "source": [
    "## Neural network"
   ]
  },
  {
   "cell_type": "markdown",
   "id": "47c82599",
   "metadata": {},
   "source": [
    "### Perceptron"
   ]
  },
  {
   "cell_type": "code",
   "execution_count": null,
   "id": "15cd3e32",
   "metadata": {},
   "outputs": [],
   "source": [
    "from mlforce.basics import Perceptron"
   ]
  },
  {
   "cell_type": "code",
   "execution_count": null,
   "id": "df962ec8",
   "metadata": {},
   "outputs": [],
   "source": [
    "ds.load_perceptron()\n",
    "X, y = ds.data, ds.target\n",
    "ds.overview()"
   ]
  },
  {
   "cell_type": "code",
   "execution_count": null,
   "id": "47d55699",
   "metadata": {},
   "outputs": [],
   "source": [
    "n_in = len(X.columns)\n",
    "perceptron = Perceptron(n_in)\n",
    "perceptron.fit(X, y)\n",
    "print(perceptron)"
   ]
  },
  {
   "cell_type": "markdown",
   "id": "7d588dc0",
   "metadata": {},
   "source": [
    "# Unsupervised Learning"
   ]
  },
  {
   "cell_type": "markdown",
   "id": "6f0d969f",
   "metadata": {},
   "source": [
    "## Clustering"
   ]
  },
  {
   "cell_type": "markdown",
   "id": "05b3dba6",
   "metadata": {},
   "source": [
    "### K-means clustering"
   ]
  },
  {
   "cell_type": "code",
   "execution_count": null,
   "id": "699adcee",
   "metadata": {},
   "outputs": [],
   "source": [
    "from mlforce.basics import Kmeans"
   ]
  },
  {
   "cell_type": "code",
   "execution_count": null,
   "id": "90e58d04",
   "metadata": {},
   "outputs": [],
   "source": [
    "ds.load_kmeans('kmeans1')\n",
    "matrix = ds.dataset\n",
    "ds.overview()"
   ]
  },
  {
   "cell_type": "code",
   "execution_count": null,
   "id": "38e2e677",
   "metadata": {},
   "outputs": [],
   "source": [
    "centroids = ['A', 'B']\n",
    "kmeans = Kmeans(centroids)\n",
    "kmeans.fit(matrix)\n",
    "print(kmeans)"
   ]
  },
  {
   "cell_type": "code",
   "execution_count": null,
   "id": "4de242fc",
   "metadata": {},
   "outputs": [],
   "source": [
    "ds.load_kmeans('kmeans2')\n",
    "matrix = ds.dataset\n",
    "ds.overview()"
   ]
  },
  {
   "cell_type": "code",
   "execution_count": null,
   "id": "b98acb3f",
   "metadata": {},
   "outputs": [],
   "source": [
    "centroids = ['A', 'B']\n",
    "kmeans = Kmeans(centroids)\n",
    "kmeans.fit(matrix)\n",
    "print(kmeans)"
   ]
  },
  {
   "cell_type": "markdown",
   "id": "bbf952cd",
   "metadata": {},
   "source": [
    "### Hierarchical clustering"
   ]
  },
  {
   "cell_type": "code",
   "execution_count": null,
   "id": "ac5791ce",
   "metadata": {},
   "outputs": [],
   "source": [
    "from mlforce.basics import HierarchicalClustering"
   ]
  },
  {
   "cell_type": "code",
   "execution_count": null,
   "id": "2a84ef3c",
   "metadata": {},
   "outputs": [],
   "source": [
    "ds.load_hierarchical()\n",
    "matrix = ds.dataset\n",
    "ds.overview()"
   ]
  },
  {
   "cell_type": "code",
   "execution_count": null,
   "id": "5429d052",
   "metadata": {},
   "outputs": [],
   "source": [
    "hc = HierarchicalClustering()\n",
    "hc.fit(matrix)\n",
    "print(hc)"
   ]
  },
  {
   "cell_type": "markdown",
   "id": "63df9b74",
   "metadata": {},
   "source": [
    "### Density-Based Spatial Clustering of Applications with Noise(DBSCAN)"
   ]
  },
  {
   "cell_type": "code",
   "execution_count": null,
   "id": "d6a44387",
   "metadata": {},
   "outputs": [],
   "source": [
    "from mlforce.basics import DBSCAN"
   ]
  },
  {
   "cell_type": "code",
   "execution_count": null,
   "id": "0b4d7169",
   "metadata": {},
   "outputs": [],
   "source": [
    "ds.load_dbscan('dbscan1')\n",
    "matrix = ds.dataset\n",
    "ds.overview()"
   ]
  },
  {
   "cell_type": "code",
   "execution_count": null,
   "id": "dcb857ce",
   "metadata": {},
   "outputs": [],
   "source": [
    "dbscan = DBSCAN(eps=2, minpts=3)\n",
    "dbscan.fit(matrix)\n",
    "print(dbscan)"
   ]
  },
  {
   "cell_type": "code",
   "execution_count": null,
   "id": "71f7cb40",
   "metadata": {},
   "outputs": [],
   "source": [
    "dbscan = DBSCAN(eps=1, minpts=2)\n",
    "dbscan.fit(matrix)\n",
    "print(dbscan)"
   ]
  },
  {
   "cell_type": "code",
   "execution_count": null,
   "id": "e1f84f90",
   "metadata": {},
   "outputs": [],
   "source": [
    "ds.load_dbscan('dbscan2')\n",
    "matrix = ds.dataset\n",
    "ds.overview()"
   ]
  },
  {
   "cell_type": "code",
   "execution_count": null,
   "id": "6a3b69fc",
   "metadata": {},
   "outputs": [],
   "source": [
    "dbscan = DBSCAN(eps=2, minpts=2)\n",
    "dbscan.fit(matrix)\n",
    "print(dbscan)"
   ]
  },
  {
   "cell_type": "markdown",
   "id": "9235d46d",
   "metadata": {},
   "source": [
    "## Evaluating clustering quality"
   ]
  },
  {
   "cell_type": "code",
   "execution_count": null,
   "id": "75f9a0ed",
   "metadata": {},
   "outputs": [],
   "source": [
    "from mlforce.basics import ClusteringEvaluator"
   ]
  },
  {
   "cell_type": "markdown",
   "id": "4b2a3ab1",
   "metadata": {},
   "source": [
    "### Using the silhouette coefficent"
   ]
  },
  {
   "cell_type": "code",
   "execution_count": null,
   "id": "78b2cd22",
   "metadata": {},
   "outputs": [],
   "source": [
    "ds.load_cluster_evaluate(method='sihouette_coefficient')\n",
    "distance_matrix = ds.dataset\n",
    "cluster_labels = ds.cluster_labels\n",
    "ds.overview()"
   ]
  },
  {
   "cell_type": "code",
   "execution_count": null,
   "id": "2a818414",
   "metadata": {},
   "outputs": [],
   "source": [
    "ce = ClusteringEvaluator(method='sihouette_coefficient')\n",
    "ce.fit(cluster_labels, distance_matrix)\n",
    "print(ce)"
   ]
  },
  {
   "cell_type": "markdown",
   "id": "ff697bb0",
   "metadata": {},
   "source": [
    "### Using correlation"
   ]
  },
  {
   "cell_type": "code",
   "execution_count": null,
   "id": "45aff5ab",
   "metadata": {},
   "outputs": [],
   "source": [
    "# Re-evaluate the previous clustering results using correlation\n",
    "# In this case, \n",
    "# the similarity matrix will be directly computed from the distance matrix.\n",
    "ce = ClusteringEvaluator(method='correlation')\n",
    "ce.fit(cluster_labels, distance_matrix=distance_matrix)\n",
    "print(ce)"
   ]
  },
  {
   "cell_type": "code",
   "execution_count": null,
   "id": "6d7b8319",
   "metadata": {},
   "outputs": [],
   "source": [
    "# \n",
    "ds.load_cluster_evaluate(method='correlation')\n",
    "similarity_matrix_distance = ds.dataset\n",
    "ds.overview()"
   ]
  },
  {
   "cell_type": "code",
   "execution_count": null,
   "id": "6517bd28",
   "metadata": {},
   "outputs": [],
   "source": [
    "ce = ClusteringEvaluator(method='correlation')\n",
    "ce.fit(cluster_labels, similarity_matrix_distance=similarity_matrix_distance)\n",
    "print(ce)"
   ]
  },
  {
   "cell_type": "markdown",
   "id": "8c422ad7",
   "metadata": {},
   "source": [
    "## Markov models"
   ]
  },
  {
   "cell_type": "markdown",
   "id": "0fbb4aa2",
   "metadata": {},
   "source": [
    "### Markov chain"
   ]
  },
  {
   "cell_type": "code",
   "execution_count": null,
   "id": "f081cc47",
   "metadata": {},
   "outputs": [],
   "source": [
    "from mlforce.basics import MarkovChain"
   ]
  },
  {
   "cell_type": "code",
   "execution_count": null,
   "id": "2445190c",
   "metadata": {},
   "outputs": [],
   "source": [
    "ds.load_markov()\n",
    "matrix = ds.dataset\n",
    "ds.overview()"
   ]
  },
  {
   "cell_type": "code",
   "execution_count": null,
   "id": "5712f9dc",
   "metadata": {},
   "outputs": [],
   "source": [
    "# The state sequence must have a length of four in our implementation.\n",
    "state_sequence = ['State B', 'State C', 'State A', None]\n",
    "mc = MarkovChain(matrix)\n",
    "mc.fit(state_sequence)\n",
    "mc.next_state()\n",
    "print(mc)"
   ]
  },
  {
   "cell_type": "code",
   "execution_count": null,
   "id": "79b0f986",
   "metadata": {},
   "outputs": [],
   "source": [
    "state_sequence = [None, 'State A', 'State A', 'State B']\n",
    "mc = MarkovChain(matrix)\n",
    "mc.fit(state_sequence)\n",
    "mc.state_after_next_state()\n",
    "print(mc)"
   ]
  },
  {
   "cell_type": "markdown",
   "id": "c3abe169",
   "metadata": {},
   "source": [
    "### Hidden Markov models"
   ]
  },
  {
   "cell_type": "code",
   "execution_count": null,
   "id": "a367913b",
   "metadata": {},
   "outputs": [],
   "source": [
    "from mlforce.basics import HiddenMarkovModel"
   ]
  },
  {
   "cell_type": "code",
   "execution_count": null,
   "id": "f8f77266",
   "metadata": {},
   "outputs": [],
   "source": [
    "ds.load_hidden_markov('hm1')\n",
    "# Initial probabilities of state A_0\n",
    "initial_probability = ds.initial_probability\n",
    "# Transition probability matrix A\n",
    "transition = ds.transition\n",
    "# Emission probability matrix E\n",
    "emission = ds.emission\n",
    "ds.overview()"
   ]
  },
  {
   "cell_type": "code",
   "execution_count": null,
   "id": "8cdcf33b",
   "metadata": {},
   "outputs": [],
   "source": [
    "observations = ['Observation 2', 'Observation 1']\n",
    "hmm = HiddenMarkovModel(initial_probability, transition, emission)\n",
    "hmm.fit(observations)\n",
    "print(hmm)"
   ]
  },
  {
   "cell_type": "code",
   "execution_count": null,
   "id": "28aef91d",
   "metadata": {},
   "outputs": [],
   "source": [
    "ds.load_hidden_markov('hm2')\n",
    "# Initial probabilities of state A_0\n",
    "initial_probability = ds.initial_probability\n",
    "# Transition probability matrix A\n",
    "transition = ds.transition\n",
    "# Emission probability matrix E\n",
    "emission = ds.emission\n",
    "ds.overview()"
   ]
  },
  {
   "cell_type": "code",
   "execution_count": null,
   "id": "19ad5cf4",
   "metadata": {},
   "outputs": [],
   "source": [
    "observations = ['Observation 1', 'Observation 3']\n",
    "hmm = HiddenMarkovModel(initial_probability, transition, emission)\n",
    "hmm.fit(observations)\n",
    "print(hmm)"
   ]
  },
  {
   "cell_type": "code",
   "execution_count": null,
   "id": "0f571305",
   "metadata": {},
   "outputs": [],
   "source": [
    "observations = ['Observation 1', 'Observation 3', 'Observation 2']\n",
    "hmm = HiddenMarkovModel(initial_probability, transition, emission)\n",
    "hmm.fit(observations)\n",
    "print(hmm)"
   ]
  }
 ],
 "metadata": {
  "kernelspec": {
   "display_name": "Python 3 (ipykernel)",
   "language": "python",
   "name": "python3"
  },
  "language_info": {
   "codemirror_mode": {
    "name": "ipython",
    "version": 3
   },
   "file_extension": ".py",
   "mimetype": "text/x-python",
   "name": "python",
   "nbconvert_exporter": "python",
   "pygments_lexer": "ipython3",
   "version": "3.8.18"
  }
 },
 "nbformat": 4,
 "nbformat_minor": 5
}
