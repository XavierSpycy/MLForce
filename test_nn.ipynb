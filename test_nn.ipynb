{
 "cells": [
  {
   "cell_type": "code",
   "execution_count": null,
   "metadata": {},
   "outputs": [],
   "source": [
    "#!pip install mlforce"
   ]
  },
  {
   "cell_type": "code",
   "execution_count": null,
   "metadata": {},
   "outputs": [],
   "source": [
    "import mlforce as mlf\n",
    "mlf.__version__"
   ]
  },
  {
   "cell_type": "code",
   "execution_count": null,
   "metadata": {},
   "outputs": [],
   "source": [
    "from mlforce.nn.layers import Input, Dense\n",
    "from mlforce.nn.optim import Adam\n",
    "from mlforce.nn.mlp import MultilayerPerceptron\n",
    "from sklearn.metrics import accuracy_score as accuracy\n",
    "from sklearn.model_selection import train_test_split\n",
    "from sklearn.datasets import load_digits"
   ]
  },
  {
   "cell_type": "code",
   "execution_count": null,
   "metadata": {},
   "outputs": [],
   "source": [
    "X_train, X_test, y_train, y_test = train_test_split(*load_digits(return_X_y=True), test_size=0.2, random_state=42)\n",
    "\n",
    "model = MultilayerPerceptron(\n",
    "    [\n",
    "        Input(64),\n",
    "        Dense(64, activation='relu', init='kaiming_uniform'),\n",
    "        Dense(32, activation='relu', init='kaiming_uniform'),\n",
    "        Dense(16, activation='relu', init='kaiming_uniform'),\n",
    "        Dense(10, activation='softmax')\n",
    "    ]\n",
    ")\n",
    "\n",
    "model.compile(optimizer=Adam(),\n",
    "            metrics=['CrossEntropy', 'Accuracy'])\n",
    "model.fit(X_train, y_train, epochs=17, batch_size=8, use_progress_bar=True)\n",
    "loss = model.loss_tracker()\n",
    "train_time = model.training_time()\n",
    "print(f'Training time: {train_time:.2f} second(s).')\n",
    "print(f'Loss: {loss[-1]:.2f}.')\n",
    "model.plot_loss()\n",
    "\n",
    "print(f\"Accuracy on the training set is: {accuracy(y_train, model(X_train)):.2%}.\" )\n",
    "print(f\"Accuracy on the test set is: {accuracy(y_test, model(X_test)):.2%}.\")"
   ]
  }
 ],
 "metadata": {
  "kernelspec": {
   "display_name": "mlforce",
   "language": "python",
   "name": "python3"
  },
  "language_info": {
   "codemirror_mode": {
    "name": "ipython",
    "version": 3
   },
   "file_extension": ".py",
   "mimetype": "text/x-python",
   "name": "python",
   "nbconvert_exporter": "python",
   "pygments_lexer": "ipython3",
   "version": "3.12.1"
  }
 },
 "nbformat": 4,
 "nbformat_minor": 2
}
